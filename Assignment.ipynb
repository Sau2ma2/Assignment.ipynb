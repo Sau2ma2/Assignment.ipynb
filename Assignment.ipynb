{
  "nbformat": 4,
  "nbformat_minor": 0,
  "metadata": {
    "colab": {
      "provenance": [],
      "authorship_tag": "ABX9TyMtPMJayMgZYYbOS3TF3dUg",
      "include_colab_link": true
    },
    "kernelspec": {
      "name": "python3",
      "display_name": "Python 3"
    },
    "language_info": {
      "name": "python"
    }
  },
  "cells": [
    {
      "cell_type": "markdown",
      "metadata": {
        "id": "view-in-github",
        "colab_type": "text"
      },
      "source": [
        "<a href=\"https://colab.research.google.com/github/Sau2ma2/Assignment.ipynb/blob/main/Assignment.ipynb\" target=\"_parent\"><img src=\"https://colab.research.google.com/assets/colab-badge.svg\" alt=\"Open In Colab\"/></a>"
      ]
    },
    {
      "cell_type": "code",
      "execution_count": 1,
      "metadata": {
        "colab": {
          "base_uri": "https://localhost:8080/"
        },
        "id": "oejD3LRvUOP6",
        "outputId": "f95f0bc8-32c6-4445-8da6-27b234c3ce38"
      },
      "outputs": [
        {
          "output_type": "execute_result",
          "data": {
            "text/plain": [
              "['fail',\n",
              " 'fail',\n",
              " 'Distinction',\n",
              " 'Distinction',\n",
              " 'Distinction',\n",
              " 'first_class',\n",
              " 'Distinction']"
            ]
          },
          "metadata": {},
          "execution_count": 1
        }
      ],
      "source": [
        "# Assignment: Take random % values: if per>80 --> Distinction, per<80 >70 First class ......\n",
        "student_marks=['40%','50%','81%','95%','98%','75%','82%']\n",
        "def check(std_mark):\n",
        "  if std_mark>'80%':\n",
        "    return 'Distinction'\n",
        "  elif std_mark<'80%' and std_mark>'70%':\n",
        "    return 'first_class'\n",
        "  else:\n",
        "    return 'fail'\n",
        "\n",
        "list(map(check,student_marks))"
      ]
    },
    {
      "cell_type": "code",
      "source": [],
      "metadata": {
        "id": "crTUDbCfUi8z"
      },
      "execution_count": null,
      "outputs": []
    }
  ]
}